{
 "cells": [
  {
   "cell_type": "code",
   "execution_count": 4,
   "id": "1d0ce645",
   "metadata": {},
   "outputs": [],
   "source": [
    "import pandas as pd"
   ]
  },
  {
   "cell_type": "code",
   "execution_count": 14,
   "id": "904b3eeb",
   "metadata": {},
   "outputs": [],
   "source": [
    "df = pd.DataFrame({'A': ['high', 'medium', 'low'], 'B': [10, 20, 30]}, index=[0,1,2])"
   ]
  },
  {
   "cell_type": "code",
   "execution_count": 15,
   "id": "a58fd4e6",
   "metadata": {},
   "outputs": [
    {
     "name": "stdout",
     "output_type": "stream",
     "text": [
      "        A   B\n",
      "0    high  10\n",
      "1  medium  20\n",
      "2     low  30\n"
     ]
    }
   ],
   "source": [
    "print(df)"
   ]
  },
  {
   "cell_type": "code",
   "execution_count": 17,
   "id": "68233630",
   "metadata": {},
   "outputs": [
    {
     "name": "stdout",
     "output_type": "stream",
     "text": [
      "    B  A_high  A_low  A_medium\n",
      "0  10       1      0         0\n",
      "1  20       0      0         1\n",
      "2  30       0      1         0\n"
     ]
    }
   ],
   "source": [
    "df_with_dummies = pd.get_dummies(df, prefix='A', columns=['A'])\n",
    "print(df_with_dummies)"
   ]
  },
  {
   "cell_type": "code",
   "execution_count": 53,
   "id": "4a336a78",
   "metadata": {},
   "outputs": [
    {
     "name": "stdout",
     "output_type": "stream",
     "text": [
      "Mean before Standardization: petal lengh=3.8, petal width=1.2\n",
      "SD before standardization: petal lengh=1.8, petal width=0.8\n",
      "Mean after stabdardization: petal lengh=-0.0, petal width=-0.0\n",
      "SD after standardization: petal lengh=1.0, petal width=1.0\n",
      "Min value before min-max: petal lengh=1.0, petal width=0.1\n",
      "Max value before min-max petal lengh=6.9, petal width=2.5\n",
      "Min value after min-max: petal lengh=0.0, petal width=0.0\n",
      "Max value after min-max petal lengh=1.0, petal width=1.0\n"
     ]
    }
   ],
   "source": [
    "from sklearn import datasets, preprocessing\n",
    "import numpy as np\n",
    "\n",
    "iris = datasets.load_iris()\n",
    "x = iris.data[:, [2,3]]\n",
    "y = iris.target\n",
    "\n",
    "std_scale = preprocessing.StandardScaler().fit(x)\n",
    "x_std = std_scale.transform(x)\n",
    "\n",
    "minmax_scale = preprocessing.MinMaxScaler().fit(x)\n",
    "x_minmax = minmax_scale.transform(x)\n",
    "\n",
    "print('Mean before Standardization: petal lengh={:.1f}, petal width={:.1f}'.format(x[:,0].mean(), x[:,1].mean()))\n",
    "print('SD before standardization: petal lengh={:.1f}, petal width={:.1f}'.format(x[:,0].std(), x[:,1].std()))\n",
    "print('Mean after stabdardization: petal lengh={:.1f}, petal width={:.1f}'.format(x_std[:,0].mean(), x_std[:,1].mean()))\n",
    "print(\"SD after standardization: petal lengh={:.1f}, petal width={:.1f}\".format(x_std[:,0].std(), x_std[:,1].std()))\n",
    "print(\"Min value before min-max: petal lengh={:.1f}, petal width={:.1f}\".format(x[:,0].min(), x[:,1].min()))\n",
    "print('Max value before min-max petal lengh={:.1f}, petal width={:.1f}'. format(x[:,0].max(), x[:,1].max()))\n",
    "print(\"Min value after min-max: petal lengh={:.1f}, petal width={:.1f}\".format(x_minmax[:,0].min(), x_minmax[:,1].min()))\n",
    "print('Max value after min-max petal lengh={:.1f}, petal width={:.1f}'. format(x_minmax[:,0].max(), x_minmax[:,1].max()))\n"
   ]
  },
  {
   "cell_type": "code",
   "execution_count": 69,
   "id": "7e410b34",
   "metadata": {},
   "outputs": [
    {
     "name": "stdout",
     "output_type": "stream",
     "text": [
      "setosa       50\n",
      "versicolo    50\n",
      "virginnca    50\n",
      "Name: species, dtype: int64\n"
     ]
    },
    {
     "data": {
      "text/html": [
       "<div>\n",
       "<style scoped>\n",
       "    .dataframe tbody tr th:only-of-type {\n",
       "        vertical-align: middle;\n",
       "    }\n",
       "\n",
       "    .dataframe tbody tr th {\n",
       "        vertical-align: top;\n",
       "    }\n",
       "\n",
       "    .dataframe thead th {\n",
       "        text-align: right;\n",
       "    }\n",
       "</style>\n",
       "<table border=\"1\" class=\"dataframe\">\n",
       "  <thead>\n",
       "    <tr style=\"text-align: right;\">\n",
       "      <th></th>\n",
       "      <th>sepal-length-(cm)</th>\n",
       "      <th>sepal-width-(cm)</th>\n",
       "      <th>petal-length-(cm)</th>\n",
       "      <th>petal-width-(cm)</th>\n",
       "    </tr>\n",
       "  </thead>\n",
       "  <tbody>\n",
       "    <tr>\n",
       "      <th>count</th>\n",
       "      <td>150.000000</td>\n",
       "      <td>150.000000</td>\n",
       "      <td>150.000000</td>\n",
       "      <td>150.000000</td>\n",
       "    </tr>\n",
       "    <tr>\n",
       "      <th>mean</th>\n",
       "      <td>5.843333</td>\n",
       "      <td>3.057333</td>\n",
       "      <td>3.758000</td>\n",
       "      <td>1.199333</td>\n",
       "    </tr>\n",
       "    <tr>\n",
       "      <th>std</th>\n",
       "      <td>0.828066</td>\n",
       "      <td>0.435866</td>\n",
       "      <td>1.765298</td>\n",
       "      <td>0.762238</td>\n",
       "    </tr>\n",
       "    <tr>\n",
       "      <th>min</th>\n",
       "      <td>4.300000</td>\n",
       "      <td>2.000000</td>\n",
       "      <td>1.000000</td>\n",
       "      <td>0.100000</td>\n",
       "    </tr>\n",
       "    <tr>\n",
       "      <th>25%</th>\n",
       "      <td>5.100000</td>\n",
       "      <td>2.800000</td>\n",
       "      <td>1.600000</td>\n",
       "      <td>0.300000</td>\n",
       "    </tr>\n",
       "    <tr>\n",
       "      <th>50%</th>\n",
       "      <td>5.800000</td>\n",
       "      <td>3.000000</td>\n",
       "      <td>4.350000</td>\n",
       "      <td>1.300000</td>\n",
       "    </tr>\n",
       "    <tr>\n",
       "      <th>75%</th>\n",
       "      <td>6.400000</td>\n",
       "      <td>3.300000</td>\n",
       "      <td>5.100000</td>\n",
       "      <td>1.800000</td>\n",
       "    </tr>\n",
       "    <tr>\n",
       "      <th>max</th>\n",
       "      <td>7.900000</td>\n",
       "      <td>4.400000</td>\n",
       "      <td>6.900000</td>\n",
       "      <td>2.500000</td>\n",
       "    </tr>\n",
       "  </tbody>\n",
       "</table>\n",
       "</div>"
      ],
      "text/plain": [
       "       sepal-length-(cm)  sepal-width-(cm)  petal-length-(cm)  \\\n",
       "count         150.000000        150.000000         150.000000   \n",
       "mean            5.843333          3.057333           3.758000   \n",
       "std             0.828066          0.435866           1.765298   \n",
       "min             4.300000          2.000000           1.000000   \n",
       "25%             5.100000          2.800000           1.600000   \n",
       "50%             5.800000          3.000000           4.350000   \n",
       "75%             6.400000          3.300000           5.100000   \n",
       "max             7.900000          4.400000           6.900000   \n",
       "\n",
       "       petal-width-(cm)  \n",
       "count        150.000000  \n",
       "mean           1.199333  \n",
       "std            0.762238  \n",
       "min            0.100000  \n",
       "25%            0.300000  \n",
       "50%            1.300000  \n",
       "75%            1.800000  \n",
       "max            2.500000  "
      ]
     },
     "execution_count": 69,
     "metadata": {},
     "output_type": "execute_result"
    }
   ],
   "source": [
    "from sklearn import datasets\n",
    "import matplotlib.pyplot as plt\n",
    "\n",
    "iris = datasets.load_iris()\n",
    "\n",
    "#let's convert it to DataFrame\n",
    "iris = pd.DataFrame(np.c_[iris['data'], iris['target']], columns= iris['feature_names'] + ['species'])\n",
    "\n",
    "#replace the values with the class label\n",
    "iris.species = np.where(iris.species == 0.0, 'setosa', np.where(iris.species == 1.0, 'versicolo', 'virginnca'))\n",
    "\n",
    "#let replace space in column name with -\n",
    "iris.columns = iris.columns.str.replace(' ', '-')\n",
    "\n",
    "print(iris['species'].value_counts())\n",
    "iris.describe()"
   ]
  },
  {
   "cell_type": "code",
   "execution_count": 78,
   "id": "504df893",
   "metadata": {},
   "outputs": [
    {
     "data": {
      "image/png": "[encoded data removed]",
      "text/plain": [
       "<Figure size 432x288 with 4 Axes>"
      ]
     },
     "metadata": {
      "needs_background": "light"
     },
     "output_type": "display_data"
    },
    {
     "data": {
      "image/png": "[encoded data removed]",
      "text/plain": [
       "<Figure size 432x288 with 1 Axes>"
      ]
     },
     "metadata": {
      "needs_background": "light"
     },
     "output_type": "display_data"
    }
   ],
   "source": [
    "#ploting the values\n",
    "\n",
    "plt.figsize = (15, 8)\n",
    "iris.hist()\n",
    "plt.suptitle('Histogram view', fontsize=16)\n",
    "\n",
    "plt.show()\n",
    "\n",
    "iris.boxplot()\n",
    "\n",
    "plt.show()"
   ]
  },
  {
   "cell_type": "code",
   "execution_count": 98,
   "id": "017d20d1",
   "metadata": {},
   "outputs": [
    {
     "data": {
      "text/plain": [
       "<matplotlib.legend.Legend at 0x20afaf56b80>"
      ]
     },
     "execution_count": 98,
     "metadata": {},
     "output_type": "execute_result"
    },
    {
     "data": {
      "image/png": "[encoded data removed]",
      "text/plain": [
       "<Figure size 432x288 with 1 Axes>"
      ]
     },
     "metadata": {
      "needs_background": "light"
     },
     "output_type": "display_data"
    }
   ],
   "source": [
    "# MULTIVARIATE ANALYSIS\n",
    "# print the mean for each column by species\n",
    "\n",
    "iris.groupby(by='species').mean()\n",
    "\n",
    "# plot for mean of each feature for each label class\n",
    "iris.groupby(by='species').mean().plot(kind='bar')\n",
    "plt.title(\"Class vs Measurements\")\n",
    "plt.xticks(0)\n",
    "plt.grid(True)\n",
    "plt.ylabel(\"mean measurement (cm)\")\n",
    "plt.legend(loc='upper left', bbox_to_anchor=(1,1))"
   ]
  }
 ],
 "metadata": {
  "celltoolbar": "Tags",
  "kernelspec": {
   "display_name": "Python 3 (ipykernel)",
   "language": "python",
   "name": "python3"
  },
  "language_info": {
   "codemirror_mode": {
    "name": "ipython",
    "version": 3
   },
   "file_extension": ".py",
   "mimetype": "text/x-python",
   "name": "python",
   "nbconvert_exporter": "python",
   "pygments_lexer": "ipython3",
   "version": "3.9.7"
  }
 },
 "nbformat": 4,
 "nbformat_minor": 5
}
